{
 "cells": [
  {
   "cell_type": "code",
   "execution_count": 1,
   "id": "6b54bc7d",
   "metadata": {},
   "outputs": [
    {
     "name": "stdout",
     "output_type": "stream",
     "text": [
      "[16] [[108  18 148 197]]\n"
     ]
    }
   ],
   "source": [
    "import cv2\n",
    "import matplotlib.pyplot as plt\n",
    "img=cv2.imread('bird.jpg')\n",
    "classLabel= []\n",
    "file_name = 'labels.txt'\n",
    "with open(file_name,'rt') as fpt:\n",
    "    classlabel=fpt.read().rstrip('\\n').split('\\n')\n",
    "\n",
    "config_file='ssd_mobilenet_v3_large_coco_2020_01_14.pbtxt'\n",
    "frozen_model='frozen_inference_graph.pb'\n",
    "\n",
    "model = cv2.dnn_DetectionModel(frozen_model,config_file)\n",
    "\n",
    "model.setInputSize(320,320)\n",
    "model.setInputScale(1.0/ 127.5)\n",
    "model.setInputMean((127.5,127.5,127.5))\n",
    "model.setInputSwapRB(True)\n",
    "\n",
    "classIndex , confidence , bbox = model.detect(img,confThreshold = .5)\n",
    "print(classIndex,bbox)\n",
    "\n",
    "for ClassInd , conf , boxes in zip(classIndex.flatten(), confidence.flatten(),bbox):\n",
    "    cv2.rectangle(img,boxes,(0,255,0),thickness=3)\n",
    "    cv2.putText(img, str(classlabel[int(ClassInd) - 2]), (boxes[0] + 75, boxes[1] + 30), cv2.FONT_HERSHEY_PLAIN, fontScale=2, color=(255, 0, 0), thickness=3)\n",
    "\n",
    "cv2.imshow('Image', img)\n",
    "cv2.waitKey(0)  # Wait indefinitely for a key event\n",
    "cv2.destroyAllWindows() "
   ]
  },
  {
   "cell_type": "code",
   "execution_count": null,
   "id": "980e225e",
   "metadata": {},
   "outputs": [],
   "source": []
  },
  {
   "cell_type": "code",
   "execution_count": null,
   "id": "b1c000f9",
   "metadata": {},
   "outputs": [],
   "source": []
  }
 ],
 "metadata": {
  "kernelspec": {
   "display_name": "Python 3 (ipykernel)",
   "language": "python",
   "name": "python3"
  },
  "language_info": {
   "codemirror_mode": {
    "name": "ipython",
    "version": 3
   },
   "file_extension": ".py",
   "mimetype": "text/x-python",
   "name": "python",
   "nbconvert_exporter": "python",
   "pygments_lexer": "ipython3",
   "version": "3.11.4"
  }
 },
 "nbformat": 4,
 "nbformat_minor": 5
}
